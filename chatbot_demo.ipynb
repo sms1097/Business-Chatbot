{
 "metadata": {
  "language_info": {
   "codemirror_mode": {
    "name": "ipython",
    "version": 3
   },
   "file_extension": ".py",
   "mimetype": "text/x-python",
   "name": "python",
   "nbconvert_exporter": "python",
   "pygments_lexer": "ipython3",
   "version": "3.7.6-final"
  },
  "orig_nbformat": 2,
  "kernelspec": {
   "name": "python3",
   "display_name": "Python 3",
   "language": "python"
  }
 },
 "nbformat": 4,
 "nbformat_minor": 2,
 "cells": [
  {
   "source": [
    "# Demo of Gym ChatBot\n",
    "This chatbot is a basic working example of how a chatbot could be trained to interface with customers to provide answers to frequently asked questions. "
   ],
   "cell_type": "markdown",
   "metadata": {}
  },
  {
   "cell_type": "code",
   "execution_count": 2,
   "metadata": {},
   "outputs": [],
   "source": [
    "from src.chatbot import ChatBot\n",
    "gym_bot = ChatBot()"
   ]
  },
  {
   "source": [
    "### Examples of Greeting the Chat Bot"
   ],
   "cell_type": "markdown",
   "metadata": {}
  },
  {
   "cell_type": "code",
   "execution_count": 3,
   "metadata": {},
   "outputs": [
    {
     "output_type": "execute_result",
     "data": {
      "text/plain": [
       "'Hey to you too !'"
      ]
     },
     "metadata": {},
     "execution_count": 3
    }
   ],
   "source": [
    "gym_bot.predict([\"Hi\"])"
   ]
  },
  {
   "cell_type": "code",
   "execution_count": 4,
   "metadata": {},
   "outputs": [
    {
     "output_type": "execute_result",
     "data": {
      "text/plain": [
       "'Hello , welcome to the store'"
      ]
     },
     "metadata": {},
     "execution_count": 4
    }
   ],
   "source": [
    "gym_bot.predict([\"Hello\"])"
   ]
  },
  {
   "source": [
    "### Hours of Operation"
   ],
   "cell_type": "markdown",
   "metadata": {}
  },
  {
   "cell_type": "code",
   "execution_count": 22,
   "metadata": {},
   "outputs": [
    {
     "output_type": "execute_result",
     "data": {
      "text/plain": [
       "'Our doors are open from 9 am to 5 pm daily'"
      ]
     },
     "metadata": {},
     "execution_count": 22
    }
   ],
   "source": [
    "gym_bot.predict([\"What hours are you open?\"])"
   ]
  },
  {
   "cell_type": "code",
   "execution_count": 27,
   "metadata": {},
   "outputs": [
    {
     "output_type": "execute_result",
     "data": {
      "text/plain": [
       "'We are open daily from 5 am to 12 am'"
      ]
     },
     "metadata": {},
     "execution_count": 27
    }
   ],
   "source": [
    "gym_bot.predict([\"What times are you open?\"])"
   ]
  },
  {
   "source": [
    "### Questions about equipment"
   ],
   "cell_type": "markdown",
   "metadata": {}
  },
  {
   "cell_type": "code",
   "execution_count": 5,
   "metadata": {},
   "outputs": [
    {
     "output_type": "execute_result",
     "data": {
      "text/plain": [
       "'We have a number of squat racks , benches , dumbbells , and machines .'"
      ]
     },
     "metadata": {},
     "execution_count": 5
    }
   ],
   "source": [
    "gym_bot.predict([\"What equipment do you have?\"])"
   ]
  },
  {
   "source": [
    "### Questions about classes"
   ],
   "cell_type": "markdown",
   "metadata": {}
  },
  {
   "cell_type": "code",
   "execution_count": 28,
   "metadata": {},
   "outputs": [
    {
     "output_type": "execute_result",
     "data": {
      "text/plain": [
       "'We offer group classes that are included with your membership . Personal trainers are available for an additional charge .'"
      ]
     },
     "metadata": {},
     "execution_count": 28
    }
   ],
   "source": [
    "gym_bot.predict([\"Do you offer classes?\"])"
   ]
  },
  {
   "cell_type": "code",
   "execution_count": 29,
   "metadata": {},
   "outputs": [
    {
     "output_type": "execute_result",
     "data": {
      "text/plain": [
       "'We offer group classes that are included with your membership . Personal trainers are available for an additional charge .'"
      ]
     },
     "metadata": {},
     "execution_count": 29
    }
   ],
   "source": [
    "gym_bot.predict([\"Do you offer Zumba classes?\"])"
   ]
  },
  {
   "source": [
    "### Responses to Covid"
   ],
   "cell_type": "markdown",
   "metadata": {}
  },
  {
   "cell_type": "code",
   "execution_count": 7,
   "metadata": {},
   "outputs": [
    {
     "output_type": "execute_result",
     "data": {
      "text/plain": [
       "'All members are required to wear masks in the gym . Additionally members must wipe down equipment after use .'"
      ]
     },
     "metadata": {},
     "execution_count": 7
    }
   ],
   "source": [
    "gym_bot.predict([\"How are you handling coronavirus?\"])"
   ]
  },
  {
   "cell_type": "code",
   "execution_count": 30,
   "metadata": {},
   "outputs": [
    {
     "output_type": "execute_result",
     "data": {
      "text/plain": [
       "'All members are required to wear masks in the gym . Additionally members must wipe down equipment after use .'"
      ]
     },
     "metadata": {},
     "execution_count": 30
    }
   ],
   "source": [
    "gym_bot.predict([\"Do I need to wear a mask?\"])"
   ]
  },
  {
   "source": [
    "### Questions about members"
   ],
   "cell_type": "markdown",
   "metadata": {}
  },
  {
   "cell_type": "code",
   "execution_count": 33,
   "metadata": {},
   "outputs": [
    {
     "output_type": "execute_result",
     "data": {
      "text/plain": [
       "'The gym has approximately 200 members .'"
      ]
     },
     "metadata": {},
     "execution_count": 33
    }
   ],
   "source": [
    "gym_bot.predict([\"Are there many members?\"])"
   ]
  },
  {
   "cell_type": "code",
   "execution_count": 34,
   "metadata": {},
   "outputs": [
    {
     "output_type": "execute_result",
     "data": {
      "text/plain": [
       "'The gym has approximately 200 members .'"
      ]
     },
     "metadata": {},
     "execution_count": 34
    }
   ],
   "source": [
    "gym_bot.predict([\"How many members?\"])"
   ]
  },
  {
   "cell_type": "code",
   "execution_count": 38,
   "metadata": {},
   "outputs": [
    {
     "output_type": "execute_result",
     "data": {
      "text/plain": [
       "'The easiest way to join the gym is by going to our website www.gym.com'"
      ]
     },
     "metadata": {},
     "execution_count": 38
    }
   ],
   "source": [
    "gym_bot.predict([\"How do I become a member?\"])"
   ]
  }
 ]
}